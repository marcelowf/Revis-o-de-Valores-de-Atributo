{
  "cells": [
    {
      "cell_type": "code",
      "execution_count": null,
      "metadata": {
        "id": "dfuEFJ4a05rR"
      },
      "outputs": [],
      "source": [
        "import pandas as pd\n",
        "from sklearn.linear_model import LinearRegression\n",
        "from sklearn.preprocessing import PolynomialFeatures\n",
        "from sklearn.pipeline import make_pipeline"
      ]
    },
    {
      "cell_type": "code",
      "execution_count": null,
      "metadata": {},
      "outputs": [],
      "source": [
        "dados = pd.read_csv(\"Dados.csv\")\n",
        "coluna = dados.iloc[:, 1].values.reshape(-1, 1)\n",
        "\n",
        "modelo = LinearRegression()\n",
        "modelo.fit(coluna, dados['normalized-losses'])\n",
        "\n",
        "modelo_polinomial = make_pipeline(PolynomialFeatures(degree=2), LinearRegression())\n",
        "modelo_polinomial.fit(coluna, dados['normalized-losses'])\n",
        "\n",
        "novo_ponto = 6\n",
        "previsao = modelo.predict([[novo_ponto]])\n",
        "previsao_polinomial = modelo_polinomial.predict([[novo_ponto]])\n",
        "\n",
        "print(\"Previsão de perdas normalizadas para regressão linear:\", previsao[0])\n",
        "print(\"Previsão de perdas normalizadas para regressão polinomial:\", previsao_polinomial[0])"
      ]
    }
  ],
  "metadata": {
    "colab": {
      "provenance": []
    },
    "kernelspec": {
      "display_name": "Python 3",
      "name": "python3"
    },
    "language_info": {
      "name": "python"
    }
  },
  "nbformat": 4,
  "nbformat_minor": 0
}
