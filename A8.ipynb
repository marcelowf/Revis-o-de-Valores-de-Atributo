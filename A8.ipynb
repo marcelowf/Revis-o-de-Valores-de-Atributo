import pandas as pd
from sklearn.linear_model import LinearRegression
from sklearn.preprocessing import PolynomialFeatures
from sklearn.pipeline import make_pipeline

dados = pd.read_csv("Dados.csv")
coluna = dados.iloc[:, 1].values.reshape(-1, 1)

modelo = LinearRegression()
modelo.fit(coluna, dados['normalized-losses'])

modelo_polinomial = make_pipeline(PolynomialFeatures(degree=2), LinearRegression())
modelo_polinomial.fit(coluna, dados['normalized-losses'])

novo_ponto = 6
previsao = modelo.predict([[novo_ponto]])
previsao_polinomial = modelo_polinomial.predict([[novo_ponto]])

print("Previsão de perdas normalizadas para regressão linear:", previsao[0])
print("Previsão de perdas normalizadas para regressão polinomial:", previsao_polinomial[0])
